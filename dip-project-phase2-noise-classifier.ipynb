{
 "cells": [
  {
   "cell_type": "code",
   "execution_count": null,
   "metadata": {
    "colab": {
     "base_uri": "https://localhost:8080/"
    },
    "execution": {
     "iopub.execute_input": "2024-03-14T21:10:10.119363Z",
     "iopub.status.busy": "2024-03-14T21:10:10.118834Z",
     "iopub.status.idle": "2024-03-14T21:10:23.604017Z",
     "shell.execute_reply": "2024-03-14T21:10:23.603028Z",
     "shell.execute_reply.started": "2024-03-14T21:10:10.119334Z"
    },
    "executionInfo": {
     "elapsed": 87096,
     "status": "ok",
     "timestamp": 1710445802006,
     "user": {
      "displayName": "Ali Nafisi",
      "userId": "08017426569548477520"
     },
     "user_tz": -210
    },
    "id": "a4vBD_nTgiBP",
    "outputId": "0bf3ec5e-afec-4104-9b22-54ec104503df"
   },
   "outputs": [],
   "source": [
    "!pip install torchmetrics"
   ]
  },
  {
   "cell_type": "code",
   "execution_count": 2,
   "metadata": {
    "execution": {
     "iopub.execute_input": "2024-03-14T21:10:23.606615Z",
     "iopub.status.busy": "2024-03-14T21:10:23.606320Z",
     "iopub.status.idle": "2024-03-14T21:10:32.273083Z",
     "shell.execute_reply": "2024-03-14T21:10:32.272055Z",
     "shell.execute_reply.started": "2024-03-14T21:10:23.606589Z"
    },
    "id": "rg6Tu4WbBOUp"
   },
   "outputs": [],
   "source": [
    "import torch\n",
    "import torchvision\n",
    "import pandas as pd\n",
    "import cv2\n",
    "import os"
   ]
  },
  {
   "cell_type": "code",
   "execution_count": 3,
   "metadata": {
    "colab": {
     "base_uri": "https://localhost:8080/"
    },
    "execution": {
     "iopub.execute_input": "2024-03-14T21:10:32.277705Z",
     "iopub.status.busy": "2024-03-14T21:10:32.277431Z",
     "iopub.status.idle": "2024-03-14T21:10:32.339724Z",
     "shell.execute_reply": "2024-03-14T21:10:32.338530Z",
     "shell.execute_reply.started": "2024-03-14T21:10:32.277680Z"
    },
    "executionInfo": {
     "elapsed": 6,
     "status": "ok",
     "timestamp": 1710443828028,
     "user": {
      "displayName": "Ali Nafisi",
      "userId": "08017426569548477520"
     },
     "user_tz": -210
    },
    "id": "379qGSlgH18m",
    "outputId": "22146d7a-582c-442c-93be-09e12f3b8817"
   },
   "outputs": [
    {
     "data": {
      "text/plain": [
       "device(type='cuda')"
      ]
     },
     "execution_count": 3,
     "metadata": {},
     "output_type": "execute_result"
    }
   ],
   "source": [
    "device = torch.device('cuda' if torch.cuda.is_available() else 'cpu')\n",
    "device"
   ]
  },
  {
   "cell_type": "code",
   "execution_count": 4,
   "metadata": {
    "execution": {
     "iopub.execute_input": "2024-03-14T21:12:39.416961Z",
     "iopub.status.busy": "2024-03-14T21:12:39.416164Z",
     "iopub.status.idle": "2024-03-14T21:12:39.421792Z",
     "shell.execute_reply": "2024-03-14T21:12:39.420688Z",
     "shell.execute_reply.started": "2024-03-14T21:12:39.416927Z"
    },
    "id": "7RAi9gARGTrZ"
   },
   "outputs": [],
   "source": [
    "in_channels = 3\n",
    "num_classes = 3\n",
    "learning_rate = 1e-3\n",
    "batch_size = 64\n",
    "num_epochs = 5\n",
    "load_model = False\n",
    "save_model = False"
   ]
  },
  {
   "cell_type": "code",
   "execution_count": null,
   "metadata": {
    "colab": {
     "base_uri": "https://localhost:8080/"
    },
    "execution": {
     "iopub.execute_input": "2024-03-14T21:13:23.133295Z",
     "iopub.status.busy": "2024-03-14T21:13:23.132903Z",
     "iopub.status.idle": "2024-03-14T21:13:46.677722Z",
     "shell.execute_reply": "2024-03-14T21:13:46.676632Z",
     "shell.execute_reply.started": "2024-03-14T21:13:23.133264Z"
    },
    "executionInfo": {
     "elapsed": 13630,
     "status": "ok",
     "timestamp": 1710443841654,
     "user": {
      "displayName": "Ali Nafisi",
      "userId": "08017426569548477520"
     },
     "user_tz": -210
    },
    "id": "DAE4e2WX-aCd",
    "outputId": "d7ce3761-1a95-413a-9212-7a18fef1673f"
   },
   "outputs": [],
   "source": [
    "!rm -rf *\n",
    "!pip install -U gdown\n",
    "!gdown 1E1poQDBsRp53Ip9qndB2nPLu1po3AbEp\n",
    "!gdown 18UXIh3mGA_M0oxlapPIrUG-VVpF6PN2S\n",
    "!unzip Phase2.zip"
   ]
  },
  {
   "cell_type": "code",
   "execution_count": 10,
   "metadata": {
    "execution": {
     "iopub.execute_input": "2024-03-14T21:14:23.618020Z",
     "iopub.status.busy": "2024-03-14T21:14:23.617587Z",
     "iopub.status.idle": "2024-03-14T21:14:24.716953Z",
     "shell.execute_reply": "2024-03-14T21:14:24.716140Z",
     "shell.execute_reply.started": "2024-03-14T21:14:23.617983Z"
    },
    "id": "l8kVwGJWDnnv"
   },
   "outputs": [],
   "source": [
    "class NoiseDataset(torch.utils.data.Dataset):\n",
    "    def __init__(self, root_dir='DataSet2', spreadsheet_file='Labels.xlsx', transform=None):\n",
    "        self.label_mapping_dict = {'Gaussian': 0, 'Periodic': 1, 'Salt': 2}\n",
    "        self.annotations = pd.read_excel(spreadsheet_file).drop(columns='Denoise Image')[['Noisy Image', 'Noise Type']]\n",
    "        self.annotations['Noise Type'] = self.annotations['Noise Type'].map(self.label_mapping_dict)\n",
    "        self.root_dir = root_dir\n",
    "        self.transform = transform\n",
    "\n",
    "    def __len__(self):\n",
    "        return len(self.annotations)\n",
    "\n",
    "    def __getitem__(self, index):\n",
    "        img_path = os.path.join(self.root_dir, self.annotations.iloc[index, 0])\n",
    "        image = cv2.imread(filename=img_path, flags=cv2.IMREAD_COLOR)\n",
    "        y_label = torch.tensor(int(self.annotations.iloc[index, 1]))\n",
    "        if self.transform:\n",
    "            image = self.transform(image)\n",
    "        return (image, y_label)\n",
    "\n",
    "dataset = NoiseDataset(transform=torchvision.transforms.ToTensor())\n",
    "train_dataset, test_dataset = torch.utils.data.random_split(dataset, [1000, 250])\n",
    "train_loader = torch.utils.data.DataLoader(dataset=train_dataset, batch_size=batch_size, shuffle=True)\n",
    "test_loader = torch.utils.data.DataLoader(dataset=test_dataset, batch_size=batch_size, shuffle=True)"
   ]
  },
  {
   "cell_type": "code",
   "execution_count": null,
   "metadata": {
    "colab": {
     "base_uri": "https://localhost:8080/"
    },
    "execution": {
     "iopub.execute_input": "2024-03-14T21:14:24.718838Z",
     "iopub.status.busy": "2024-03-14T21:14:24.718414Z",
     "iopub.status.idle": "2024-03-14T21:14:27.714351Z",
     "shell.execute_reply": "2024-03-14T21:14:27.713353Z",
     "shell.execute_reply.started": "2024-03-14T21:14:24.718810Z"
    },
    "executionInfo": {
     "elapsed": 9841,
     "status": "ok",
     "timestamp": 1710443852201,
     "user": {
      "displayName": "Ali Nafisi",
      "userId": "08017426569548477520"
     },
     "user_tz": -210
    },
    "id": "Rsenz-ktHFs0",
    "outputId": "c34b3db0-fb2a-4cc1-9ef2-9b5c57668143",
    "scrolled": false
   },
   "outputs": [],
   "source": [
    "model = torchvision.models.efficientnet_v2_l(pretrained=True)\n",
    "for param in model.parameters():\n",
    "    param.requires_grad = False\n",
    "model.avgpool = torch.nn.Identity()\n",
    "model.classifier[1] = torch.nn.Linear(in_features=327680, out_features=3, bias=True)\n",
    "model.to(device)\n",
    "model"
   ]
  },
  {
   "cell_type": "code",
   "execution_count": 12,
   "metadata": {
    "execution": {
     "iopub.execute_input": "2024-03-14T21:14:45.611790Z",
     "iopub.status.busy": "2024-03-14T21:14:45.610875Z",
     "iopub.status.idle": "2024-03-14T21:14:45.624189Z",
     "shell.execute_reply": "2024-03-14T21:14:45.623159Z",
     "shell.execute_reply.started": "2024-03-14T21:14:45.611758Z"
    },
    "id": "uKBi6H6kGYkx"
   },
   "outputs": [],
   "source": [
    "criterion = torch.nn.CrossEntropyLoss()\n",
    "optimizer = torch.optim.Adam(params=model.parameters(), lr=learning_rate)"
   ]
  },
  {
   "cell_type": "code",
   "execution_count": 13,
   "metadata": {
    "colab": {
     "base_uri": "https://localhost:8080/"
    },
    "execution": {
     "iopub.execute_input": "2024-03-14T21:14:48.399913Z",
     "iopub.status.busy": "2024-03-14T21:14:48.399403Z",
     "iopub.status.idle": "2024-03-14T21:19:06.228372Z",
     "shell.execute_reply": "2024-03-14T21:19:06.227372Z",
     "shell.execute_reply.started": "2024-03-14T21:14:48.399873Z"
    },
    "executionInfo": {
     "elapsed": 266641,
     "status": "ok",
     "timestamp": 1710444118839,
     "user": {
      "displayName": "Ali Nafisi",
      "userId": "08017426569548477520"
     },
     "user_tz": -210
    },
    "id": "d4qbohRuJDPA",
    "outputId": "3a1cbb72-cbeb-4d66-9f0d-9c8fd918f98c"
   },
   "outputs": [
    {
     "name": "stdout",
     "output_type": "stream",
     "text": [
      "Loss at epoch 0 was 3.722674608230591\n",
      "Loss at epoch 1 was 0.0\n",
      "Loss at epoch 2 was 0.0\n",
      "Loss at epoch 3 was 0.0\n",
      "Loss at epoch 4 was 0.3441014587879181\n"
     ]
    }
   ],
   "source": [
    "for epoch in range(num_epochs):\n",
    "    for batch_idx, (data, targets) in enumerate(train_loader):\n",
    "        data = data.to(device=device)\n",
    "        targets = targets.to(device=device)\n",
    "\n",
    "        scores = model(data)\n",
    "        loss = criterion(scores, targets)\n",
    "\n",
    "        optimizer.zero_grad()\n",
    "        loss.backward()\n",
    "\n",
    "        optimizer.step()\n",
    "    print(f'Loss at epoch {epoch} was {loss}')"
   ]
  },
  {
   "cell_type": "code",
   "execution_count": 14,
   "metadata": {
    "execution": {
     "iopub.execute_input": "2024-03-14T21:19:06.230927Z",
     "iopub.status.busy": "2024-03-14T21:19:06.230558Z",
     "iopub.status.idle": "2024-03-14T21:19:08.579075Z",
     "shell.execute_reply": "2024-03-14T21:19:08.578146Z",
     "shell.execute_reply.started": "2024-03-14T21:19:06.230894Z"
    },
    "executionInfo": {
     "elapsed": 4,
     "status": "ok",
     "timestamp": 1710449591713,
     "user": {
      "displayName": "Ali Nafisi",
      "userId": "08017426569548477520"
     },
     "user_tz": -210
    },
    "id": "xT8PLZeKJT0V"
   },
   "outputs": [],
   "source": [
    "from torchmetrics.functional.classification import multiclass_accuracy\n",
    "from torchmetrics.functional.classification import multiclass_precision\n",
    "from torchmetrics.functional.classification import multiclass_recall\n",
    "from torchmetrics.functional.classification import multiclass_f1_score\n",
    "from torchmetrics.functional.classification import multiclass_specificity\n",
    "from torchmetrics.functional.classification import multiclass_auroc\n",
    "from torchmetrics.functional.classification import multiclass_roc\n",
    "\n",
    "def check_performance(loader, model):\n",
    "    model.eval()\n",
    "    full_y = torch.tensor([], device=device, dtype=torch.int8)\n",
    "    full_predictions = torch.tensor([], device=device)\n",
    "    full_scores = torch.tensor([], device=device)\n",
    "\n",
    "    with torch.no_grad():\n",
    "        for x, y in loader:\n",
    "\n",
    "            x = x.to(device=device)\n",
    "            y = y.to(device=device)\n",
    "            scores = model(x)\n",
    "            predictions = scores.max(1)[1]\n",
    "            full_y = torch.cat(tensors=(full_y, y))\n",
    "            full_predictions = torch.cat(tensors=(full_predictions, predictions))\n",
    "            full_scores = torch.cat(tensors=(full_scores, scores))\n",
    "\n",
    "        accuracy = multiclass_accuracy(full_predictions, full_y, num_classes=3, average='macro')\n",
    "        precision = multiclass_precision(full_predictions, full_y, num_classes=3, average='macro')\n",
    "        recall = multiclass_recall(full_predictions, full_y, num_classes=3, average='macro')\n",
    "        f1_score = multiclass_f1_score(full_predictions, full_y, num_classes=3, average='macro')\n",
    "        specificity = multiclass_specificity(full_predictions, full_y, num_classes=3, average='macro')\n",
    "        auroc = multiclass_auroc(full_scores, full_y, num_classes=3, average='macro')\n",
    "        fpr, tpr, thresholds = multiclass_roc(full_scores, full_y, num_classes=3)\n",
    "    model.train()\n",
    "    return accuracy, precision, recall, f1_score, specificity, auroc, full_y, full_predictions, full_scores"
   ]
  },
  {
   "cell_type": "code",
   "execution_count": 26,
   "metadata": {
    "colab": {
     "base_uri": "https://localhost:8080/"
    },
    "execution": {
     "iopub.execute_input": "2024-03-14T21:29:03.203049Z",
     "iopub.status.busy": "2024-03-14T21:29:03.202309Z",
     "iopub.status.idle": "2024-03-14T21:29:52.269927Z",
     "shell.execute_reply": "2024-03-14T21:29:52.268844Z",
     "shell.execute_reply.started": "2024-03-14T21:29:03.203006Z"
    },
    "executionInfo": {
     "elapsed": 361,
     "status": "ok",
     "timestamp": 1710449016812,
     "user": {
      "displayName": "Ali Nafisi",
      "userId": "08017426569548477520"
     },
     "user_tz": -210
    },
    "id": "GYoAP4dsJd3O",
    "outputId": "603019cd-9a35-4b38-a381-736cf079bf6a"
   },
   "outputs": [
    {
     "name": "stdout",
     "output_type": "stream",
     "text": [
      "Accuracy: 1.0\n",
      "Precision: 1.0\n",
      "Recall: 1.0\n",
      "F1 score: 1.0\n",
      "Specificity: 1.0\n",
      "Area under the ROC: 1.0\n"
     ]
    }
   ],
   "source": [
    "accuracy, precision, recall, f1_score, specificity, auroc, full_y, full_predictions, full_scores = check_performance(train_loader, model)\n",
    "print(f\"Accuracy: {accuracy:.4}\\nPrecision: {precision:.4}\\nRecall: {recall:.4}\\nF1 score: {f1_score:.4}\\nSpecificity: {specificity:.4}\\nArea under the ROC: {auroc:.4}\")"
   ]
  },
  {
   "cell_type": "code",
   "execution_count": 27,
   "metadata": {
    "execution": {
     "iopub.execute_input": "2024-03-14T21:29:52.272203Z",
     "iopub.status.busy": "2024-03-14T21:29:52.271871Z",
     "iopub.status.idle": "2024-03-14T21:29:52.618008Z",
     "shell.execute_reply": "2024-03-14T21:29:52.617112Z",
     "shell.execute_reply.started": "2024-03-14T21:29:52.272178Z"
    },
    "id": "wQXqqiQIv12P"
   },
   "outputs": [
    {
     "data": {
      "image/png": "[encoded data removed]",
      "text/plain": [
       "<Figure size 640x480 with 1 Axes>"
      ]
     },
     "metadata": {},
     "output_type": "display_data"
    }
   ],
   "source": [
    "from torchmetrics.classification import MulticlassROC\n",
    "metric = MulticlassROC(num_classes=3)\n",
    "metric.update(full_scores, full_y)\n",
    "fig_, ax_ = metric.plot(score=True)"
   ]
  },
  {
   "cell_type": "code",
   "execution_count": 29,
   "metadata": {
    "colab": {
     "base_uri": "https://localhost:8080/",
     "height": 367
    },
    "execution": {
     "iopub.execute_input": "2024-03-14T21:30:02.947644Z",
     "iopub.status.busy": "2024-03-14T21:30:02.947240Z",
     "iopub.status.idle": "2024-03-14T21:30:03.249245Z",
     "shell.execute_reply": "2024-03-14T21:30:03.247890Z",
     "shell.execute_reply.started": "2024-03-14T21:30:02.947611Z"
    },
    "executionInfo": {
     "elapsed": 866,
     "status": "error",
     "timestamp": 1710450354012,
     "user": {
      "displayName": "Ali Nafisi",
      "userId": "08017426569548477520"
     },
     "user_tz": -210
    },
    "id": "IOIiG-NQw_7A",
    "outputId": "44cab0ad-b687-46a9-8727-4c085d08dd0b"
   },
   "outputs": [
    {
     "data": {
      "image/png": "[encoded data removed]",
      "text/plain": [
       "<Figure size 640x480 with 1 Axes>"
      ]
     },
     "metadata": {},
     "output_type": "display_data"
    }
   ],
   "source": [
    "from torchmetrics.classification import MulticlassConfusionMatrix\n",
    "metric = MulticlassConfusionMatrix(num_classes=3).to(device)\n",
    "metric.update(full_predictions, full_y)\n",
    "fig_, ax_ = metric.plot()"
   ]
  },
  {
   "cell_type": "code",
   "execution_count": 30,
   "metadata": {
    "colab": {
     "base_uri": "https://localhost:8080/"
    },
    "execution": {
     "iopub.execute_input": "2024-03-14T21:30:11.432705Z",
     "iopub.status.busy": "2024-03-14T21:30:11.431997Z",
     "iopub.status.idle": "2024-03-14T21:30:23.424885Z",
     "shell.execute_reply": "2024-03-14T21:30:23.423809Z",
     "shell.execute_reply.started": "2024-03-14T21:30:11.432672Z"
    },
    "executionInfo": {
     "elapsed": 12803,
     "status": "ok",
     "timestamp": 1710449637557,
     "user": {
      "displayName": "Ali Nafisi",
      "userId": "08017426569548477520"
     },
     "user_tz": -210
    },
    "id": "ztsf2d-1Jf3s",
    "outputId": "502b7023-5a40-48ca-b054-399603a4ee5b"
   },
   "outputs": [
    {
     "name": "stdout",
     "output_type": "stream",
     "text": [
      "Accuracy: 0.9959\n",
      "Precision: 0.996\n",
      "Recall: 0.9959\n",
      "F1 score: 0.996\n",
      "Specificity: 0.998\n",
      "Area under the ROC: 1.0\n"
     ]
    }
   ],
   "source": [
    "accuracy, precision, recall, f1_score, specificity, auroc, full_y, full_predictions, full_scores = check_performance(test_loader, model)\n",
    "print(f\"Accuracy: {accuracy:.4}\\nPrecision: {precision:.4}\\nRecall: {recall:.4}\\nF1 score: {f1_score:.4}\\nSpecificity: {specificity:.4}\\nArea under the ROC: {auroc:.4}\")"
   ]
  },
  {
   "cell_type": "code",
   "execution_count": 31,
   "metadata": {
    "colab": {
     "base_uri": "https://localhost:8080/",
     "height": 452
    },
    "execution": {
     "iopub.execute_input": "2024-03-14T21:30:23.426897Z",
     "iopub.status.busy": "2024-03-14T21:30:23.426614Z",
     "iopub.status.idle": "2024-03-14T21:30:23.718616Z",
     "shell.execute_reply": "2024-03-14T21:30:23.717664Z",
     "shell.execute_reply.started": "2024-03-14T21:30:23.426872Z"
    },
    "executionInfo": {
     "elapsed": 553,
     "status": "ok",
     "timestamp": 1710449658109,
     "user": {
      "displayName": "Ali Nafisi",
      "userId": "08017426569548477520"
     },
     "user_tz": -210
    },
    "id": "m4XKH_NCu8aI",
    "outputId": "68070427-1e6d-4908-ae17-f40c7b4e12d1"
   },
   "outputs": [
    {
     "data": {
      "image/png": "[encoded data removed]",
      "text/plain": [
       "<Figure size 640x480 with 1 Axes>"
      ]
     },
     "metadata": {},
     "output_type": "display_data"
    }
   ],
   "source": [
    "from torchmetrics.classification import MulticlassROC\n",
    "metric = MulticlassROC(num_classes=3)\n",
    "metric.update(full_scores, full_y)\n",
    "fig_, ax_ = metric.plot(score=True)"
   ]
  },
  {
   "cell_type": "code",
   "execution_count": 32,
   "metadata": {
    "execution": {
     "iopub.execute_input": "2024-03-14T21:30:23.720008Z",
     "iopub.status.busy": "2024-03-14T21:30:23.719733Z",
     "iopub.status.idle": "2024-03-14T21:30:24.032555Z",
     "shell.execute_reply": "2024-03-14T21:30:24.031156Z",
     "shell.execute_reply.started": "2024-03-14T21:30:23.719984Z"
    },
    "id": "SuhFSrm0igMF"
   },
   "outputs": [
    {
     "data": {
      "image/png": "[encoded data removed]",
      "text/plain": [
       "<Figure size 640x480 with 1 Axes>"
      ]
     },
     "metadata": {},
     "output_type": "display_data"
    }
   ],
   "source": [
    "from torchmetrics.classification import MulticlassConfusionMatrix\n",
    "metric = MulticlassConfusionMatrix(num_classes=3).to(device)\n",
    "metric.update(full_predictions, full_y)\n",
    "fig_, ax_ = metric.plot()"
   ]
  }
 ],
 "metadata": {
  "accelerator": "GPU",
  "colab": {
   "authorship_tag": "ABX9TyMCk8O4McIuKxcqbd6gt/8d",
   "gpuType": "T4",
   "provenance": []
  },
  "kernelspec": {
   "display_name": "Python 3 (ipykernel)",
   "language": "python",
   "name": "python3"
  },
  "language_info": {
   "codemirror_mode": {
    "name": "ipython",
    "version": 3
   },
   "file_extension": ".py",
   "mimetype": "text/x-python",
   "name": "python",
   "nbconvert_exporter": "python",
   "pygments_lexer": "ipython3",
   "version": "3.11.5"
  }
 },
 "nbformat": 4,
 "nbformat_minor": 4
}
