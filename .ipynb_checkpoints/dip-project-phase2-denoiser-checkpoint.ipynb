{
 "cells": [
  {
   "cell_type": "code",
   "execution_count": 2,
   "metadata": {
    "execution": {
     "iopub.execute_input": "2024-03-14T23:39:05.443862Z",
     "iopub.status.busy": "2024-03-14T23:39:05.443052Z",
     "iopub.status.idle": "2024-03-14T23:39:12.729531Z",
     "shell.execute_reply": "2024-03-14T23:39:12.728737Z",
     "shell.execute_reply.started": "2024-03-14T23:39:05.443792Z"
    },
    "id": "hI_mE80suhrI"
   },
   "outputs": [],
   "source": [
    "import torch\n",
    "import torchvision\n",
    "import numpy as np\n",
    "import pandas as pd\n",
    "import os\n",
    "import cv2\n",
    "from matplotlib import pyplot as plt"
   ]
  },
  {
   "cell_type": "code",
   "execution_count": null,
   "metadata": {
    "execution": {
     "iopub.execute_input": "2024-03-14T23:39:12.731572Z",
     "iopub.status.busy": "2024-03-14T23:39:12.731156Z",
     "iopub.status.idle": "2024-03-14T23:39:37.106254Z",
     "shell.execute_reply": "2024-03-14T23:39:37.105329Z",
     "shell.execute_reply.started": "2024-03-14T23:39:12.731546Z"
    },
    "id": "LmuMQO-j_RG4"
   },
   "outputs": [],
   "source": [
    "!rm -rf *\n",
    "!pip install -U gdown\n",
    "!gdown 1E1poQDBsRp53Ip9qndB2nPLu1po3AbEp\n",
    "!gdown 18UXIh3mGA_M0oxlapPIrUG-VVpF6PN2S\n",
    "!unzip Phase2.zip"
   ]
  },
  {
   "cell_type": "code",
   "execution_count": 4,
   "metadata": {
    "execution": {
     "iopub.execute_input": "2024-03-14T23:39:37.108163Z",
     "iopub.status.busy": "2024-03-14T23:39:37.107844Z",
     "iopub.status.idle": "2024-03-14T23:39:37.296997Z",
     "shell.execute_reply": "2024-03-14T23:39:37.296074Z",
     "shell.execute_reply.started": "2024-03-14T23:39:37.108134Z"
    },
    "id": "tQsp2vhf9RAR"
   },
   "outputs": [],
   "source": [
    "class DenoisingAutoEncoder(torch.nn.Module):\n",
    "    def __init__(self, in_channels):\n",
    "        super(DenoisingAutoEncoder, self).__init__()\n",
    "        self.encoder = torch.nn.Sequential(\n",
    "            torch.nn.Conv2d(in_channels=in_channels, out_channels=128, kernel_size=(3, 3), stride=(1, 1), padding=(1, 1)),\n",
    "            torch.nn.ReLU(),\n",
    "            torch.nn.BatchNorm2d(num_features=128),\n",
    "            torch.nn.MaxPool2d(kernel_size=(2, 2), stride=(2, 2)),\n",
    "            torch.nn.Conv2d(in_channels=128, out_channels=128, kernel_size=(3, 3), stride=(1, 1), padding=(1, 1)),\n",
    "            torch.nn.ReLU(),\n",
    "            torch.nn.BatchNorm2d(num_features=128),\n",
    "            torch.nn.MaxPool2d(kernel_size=(2, 2), stride=(2, 2)),\n",
    "\n",
    "            torch.nn.Conv2d(in_channels=128, out_channels=128, kernel_size=(3, 3), stride=(1, 1), padding=(1, 1)),\n",
    "            torch.nn.ReLU(),\n",
    "            torch.nn.BatchNorm2d(num_features=128),\n",
    "            torch.nn.MaxPool2d(kernel_size=(2, 2), stride=(2, 2)),\n",
    "            torch.nn.Conv2d(in_channels=128, out_channels=128, kernel_size=(3, 3), stride=(1, 1), padding=(1, 1)),\n",
    "            torch.nn.ReLU(),\n",
    "            torch.nn.BatchNorm2d(num_features=128),\n",
    "            torch.nn.MaxPool2d(kernel_size=(2, 2), stride=(2, 2)),\n",
    "        )\n",
    "        self.decoder = torch.nn.Sequential(\n",
    "            torch.nn.Conv2d(in_channels=128, out_channels=128, kernel_size=(3, 3), stride=(1, 1), padding=(1, 1)),\n",
    "            torch.nn.ReLU(),\n",
    "            torch.nn.BatchNorm2d(num_features=128),\n",
    "            torch.nn.ConvTranspose2d(in_channels=128, out_channels=128, kernel_size=(2, 2), stride=(2, 2)),\n",
    "            torch.nn.Conv2d(in_channels=128, out_channels=128, kernel_size=(3, 3), stride=(1, 1), padding=(1, 1)),\n",
    "            torch.nn.ReLU(),\n",
    "            torch.nn.BatchNorm2d(num_features=128),\n",
    "            torch.nn.ConvTranspose2d(in_channels=128, out_channels=128, kernel_size=(2, 2), stride=(2, 2)),\n",
    "\n",
    "            torch.nn.Conv2d(in_channels=128, out_channels=128, kernel_size=(3, 3), stride=(1, 1), padding=(1, 1)),\n",
    "            torch.nn.ReLU(),\n",
    "            torch.nn.BatchNorm2d(num_features=128),\n",
    "            torch.nn.ConvTranspose2d(in_channels=128, out_channels=128, kernel_size=(2, 2), stride=(2, 2)),\n",
    "            torch.nn.Conv2d(in_channels=128, out_channels=128, kernel_size=(3, 3), stride=(1, 1), padding=(1, 1)),\n",
    "            torch.nn.ReLU(),\n",
    "            torch.nn.BatchNorm2d(num_features=128),\n",
    "            torch.nn.ConvTranspose2d(in_channels=128, out_channels=128, kernel_size=(2, 2), stride=(2, 2)),\n",
    "\n",
    "            torch.nn.Conv2d(in_channels=128, out_channels=in_channels, kernel_size=(3, 3), stride=(1, 1), padding=(1, 1)),\n",
    "            torch.nn.Sigmoid()\n",
    "        )\n",
    "\n",
    "\n",
    "    def forward(self, x):\n",
    "        x = self.encoder(x)\n",
    "        x = self.decoder(x)\n",
    "        return x"
   ]
  },
  {
   "cell_type": "code",
   "execution_count": 5,
   "metadata": {
    "colab": {
     "base_uri": "https://localhost:8080/"
    },
    "execution": {
     "iopub.execute_input": "2024-03-14T23:39:37.299314Z",
     "iopub.status.busy": "2024-03-14T23:39:37.299029Z",
     "iopub.status.idle": "2024-03-14T23:39:37.368129Z",
     "shell.execute_reply": "2024-03-14T23:39:37.367182Z",
     "shell.execute_reply.started": "2024-03-14T23:39:37.299289Z"
    },
    "executionInfo": {
     "elapsed": 5,
     "status": "ok",
     "timestamp": 1710278256895,
     "user": {
      "displayName": "Ali Nafisi",
      "userId": "08017426569548477520"
     },
     "user_tz": 420
    },
    "id": "CVQhh_VCxO81",
    "outputId": "06960205-10ce-4602-d397-842ba2e0ad67"
   },
   "outputs": [
    {
     "data": {
      "text/plain": [
       "device(type='cuda')"
      ]
     },
     "execution_count": 5,
     "metadata": {},
     "output_type": "execute_result"
    }
   ],
   "source": [
    "device = torch.device('cuda' if torch.cuda.is_available() else 'cpu')\n",
    "device"
   ]
  },
  {
   "cell_type": "code",
   "execution_count": 6,
   "metadata": {
    "execution": {
     "iopub.execute_input": "2024-03-14T23:39:37.369540Z",
     "iopub.status.busy": "2024-03-14T23:39:37.369260Z",
     "iopub.status.idle": "2024-03-14T23:39:37.376971Z",
     "shell.execute_reply": "2024-03-14T23:39:37.376070Z",
     "shell.execute_reply.started": "2024-03-14T23:39:37.369516Z"
    },
    "id": "FteLXIlFyIJS"
   },
   "outputs": [],
   "source": [
    "in_channels = 1\n",
    "learning_rate = 0.001\n",
    "batch_size = 8\n",
    "num_epochs = 30"
   ]
  },
  {
   "cell_type": "code",
   "execution_count": 43,
   "metadata": {
    "id": "N1FMdRc19UBl"
   },
   "outputs": [],
   "source": [
    "class NoisyImagesDataset(torch.utils.data.Dataset):\n",
    "    def __init__(self, noise_type, root_dir='DataSet2', spreadsheet_file='Labels.xlsx', transform=None): # 'Gaussian' 'Periodic' 'Salt'\n",
    "        self.annotations = pd.read_excel(spreadsheet_file)\n",
    "        self.annotations = self.annotations[self.annotations['Noise Type'] == noise_type].drop(columns='Noise Type')[['Noisy Image', 'Denoise Image']]\n",
    "        self.root_dir = root_dir\n",
    "        self.transform = transform\n",
    "        self.noise_type = noise_type\n",
    "\n",
    "    def __len__(self):\n",
    "        return len(self.annotations)\n",
    "\n",
    "    def __getitem__(self, index):\n",
    "        noisy_img_path = os.path.join(self.root_dir, self.annotations.iloc[index, 0])\n",
    "        img_path = os.path.join(self.root_dir, self.annotations.iloc[index, 1])\n",
    "        noisy_image = cv2.imread(filename=noisy_img_path, flags=cv2.IMREAD_GRAYSCALE).astype(np.float32) / 255\n",
    "        image = cv2.imread(filename=img_path, flags=cv2.IMREAD_GRAYSCALE).astype(np.float32) / 255\n",
    "        if self.transform:\n",
    "            image = self.transform(image)\n",
    "            noisy_image = self.transform(noisy_image)\n",
    "        return noisy_image, image\n",
    "\n",
    "gaussian_dataset = NoisyImagesDataset(noise_type='Gaussian', transform=torchvision.transforms.ToTensor())\n",
    "gaussian_train_dataset, gaussian_test_dataset = torch.utils.data.random_split(gaussian_dataset, [319, 80])\n",
    "gaussian_train_loader = torch.utils.data.DataLoader(dataset=gaussian_train_dataset, batch_size=batch_size, shuffle=True)\n",
    "gaussian_test_loader = torch.utils.data.DataLoader(dataset=gaussian_test_dataset, batch_size=batch_size, shuffle=True)\n",
    "\n",
    "periodic_dataset = NoisyImagesDataset(noise_type='Periodic', transform=torchvision.transforms.ToTensor())\n",
    "periodic_train_dataset, periodic_test_dataset = torch.utils.data.random_split(periodic_dataset, [360, 91])\n",
    "periodic_train_loader = torch.utils.data.DataLoader(dataset=periodic_train_dataset, batch_size=batch_size, shuffle=True)\n",
    "periodic_test_loader = torch.utils.data.DataLoader(dataset=periodic_test_dataset, batch_size=batch_size, shuffle=True)\n",
    "\n",
    "salt_dataset = NoisyImagesDataset(noise_type='Salt', transform=torchvision.transforms.ToTensor())\n",
    "salt_train_dataset, salt_test_dataset = torch.utils.data.random_split(salt_dataset, [320, 80])\n",
    "salt_train_loader = torch.utils.data.DataLoader(dataset=salt_train_dataset, batch_size=batch_size, shuffle=True)\n",
    "salt_test_loader = torch.utils.data.DataLoader(dataset=salt_test_dataset, batch_size=batch_size, shuffle=True)"
   ]
  },
  {
   "cell_type": "code",
   "execution_count": 8,
   "metadata": {
    "execution": {
     "iopub.execute_input": "2024-03-14T23:39:39.483320Z",
     "iopub.status.busy": "2024-03-14T23:39:39.482910Z",
     "iopub.status.idle": "2024-03-14T23:39:39.743969Z",
     "shell.execute_reply": "2024-03-14T23:39:39.742953Z",
     "shell.execute_reply.started": "2024-03-14T23:39:39.483294Z"
    },
    "id": "q4qIYJSFy_OC"
   },
   "outputs": [],
   "source": [
    "model = DenoisingAutoEncoder(in_channels=in_channels).to(device)\n",
    "criterion = torch.nn.MSELoss()\n",
    "optimizer = torch.optim.Adam(params=model.parameters(), lr=learning_rate)"
   ]
  },
  {
   "cell_type": "code",
   "execution_count": 41,
   "metadata": {
    "execution": {
     "iopub.execute_input": "2024-03-15T00:40:28.355025Z",
     "iopub.status.busy": "2024-03-15T00:40:28.354315Z",
     "iopub.status.idle": "2024-03-15T00:40:28.363889Z",
     "shell.execute_reply": "2024-03-15T00:40:28.362821Z",
     "shell.execute_reply.started": "2024-03-15T00:40:28.354989Z"
    },
    "id": "PfJTSbdx5j1P"
   },
   "outputs": [],
   "source": [
    "from torchmetrics.functional.image import learned_perceptual_image_patch_similarity\n",
    "from torchmetrics.functional.image import peak_signal_noise_ratio\n",
    "from torchmetrics.functional.image import structural_similarity_index_measure\n",
    "\n",
    "\n",
    "def check_performance(loader, denoiser):\n",
    "    model.eval()\n",
    "    psnr = 0\n",
    "    lpips = 0\n",
    "    ssim = 0\n",
    "    count = 0\n",
    "    with torch.no_grad():\n",
    "        for noisy_image_gray, noise_free_image_gray in loader:\n",
    "            noisy_image_gray = noisy_image_gray.to(device)\n",
    "            noise_free_image_gray = noise_free_image_gray.to(device)\n",
    "\n",
    "            output = denoiser(noisy_image_gray)\n",
    "            \n",
    "            lpips += noisy_image_gray.shape[0] * learned_perceptual_image_patch_similarity(noise_free_image_gray.repeat(1, 3, 1, 1), output.repeat(1, 3, 1, 1), net_type='alex', normalize=True)\n",
    "            psnr += noisy_image_gray.shape[0] * peak_signal_noise_ratio(output, noise_free_image_gray, data_range=(0, 1))\n",
    "            ssim += noisy_image_gray.shape[0] * structural_similarity_index_measure(output, noise_free_image_gray, data_range=(0, 1))\n",
    "            count += noisy_image_gray.shape[0]\n",
    "    model.train()\n",
    "    return psnr / count, ssim / count, lpips / count"
   ]
  },
  {
   "cell_type": "code",
   "execution_count": 9,
   "metadata": {
    "colab": {
     "base_uri": "https://localhost:8080/"
    },
    "execution": {
     "iopub.execute_input": "2024-03-14T23:41:10.744859Z",
     "iopub.status.busy": "2024-03-14T23:41:10.744176Z",
     "iopub.status.idle": "2024-03-14T23:52:16.744559Z",
     "shell.execute_reply": "2024-03-14T23:52:16.743588Z",
     "shell.execute_reply.started": "2024-03-14T23:41:10.744819Z"
    },
    "executionInfo": {
     "elapsed": 689256,
     "status": "ok",
     "timestamp": 1710278961141,
     "user": {
      "displayName": "Ali Nafisi",
      "userId": "08017426569548477520"
     },
     "user_tz": 420
    },
    "id": "5yem0s2W1PbT",
    "outputId": "6133a876-7824-4f42-e100-cfbebd5ba7e8"
   },
   "outputs": [
    {
     "name": "stdout",
     "output_type": "stream",
     "text": [
      "Loss at epoch 0 was 0.004186984151601791\n",
      "Loss at epoch 1 was 0.003701667068526149\n",
      "Loss at epoch 2 was 0.005305266939103603\n",
      "Loss at epoch 3 was 0.002752698725089431\n",
      "Loss at epoch 4 was 0.0019535550381988287\n",
      "Loss at epoch 5 was 0.001668474287725985\n",
      "Loss at epoch 6 was 0.0015025107422843575\n",
      "Loss at epoch 7 was 0.0020987791940569878\n",
      "Loss at epoch 8 was 0.0012610041303560138\n",
      "Loss at epoch 9 was 0.0010946514084935188\n",
      "Loss at epoch 10 was 0.0016950821736827493\n",
      "Loss at epoch 11 was 0.0013403536286205053\n",
      "Loss at epoch 12 was 0.003376695327460766\n",
      "Loss at epoch 13 was 0.0011945064179599285\n",
      "Loss at epoch 14 was 0.001443510758690536\n",
      "Loss at epoch 15 was 0.0012131485855206847\n",
      "Loss at epoch 16 was 0.002522748429328203\n",
      "Loss at epoch 17 was 0.0010677635436877608\n",
      "Loss at epoch 18 was 0.001199766411446035\n",
      "Loss at epoch 19 was 0.0010867835953831673\n",
      "Loss at epoch 20 was 0.0011253263801336288\n",
      "Loss at epoch 21 was 0.0017491122707724571\n",
      "Loss at epoch 22 was 0.0009218865889124572\n",
      "Loss at epoch 23 was 0.0007500476785935462\n",
      "Loss at epoch 24 was 0.0012542975600808859\n",
      "Loss at epoch 25 was 0.0008166704210452735\n",
      "Loss at epoch 26 was 0.0010198422241955996\n",
      "Loss at epoch 27 was 0.0010882150381803513\n",
      "Loss at epoch 28 was 0.0006615970632992685\n",
      "Loss at epoch 29 was 0.0009404470329172909\n"
     ]
    }
   ],
   "source": [
    "for epoch in range(num_epochs):\n",
    "    for batch_idx, (data, targets) in enumerate(gaussian_train_loader):\n",
    "        data = data.to(device=device)\n",
    "        targets = targets.to(device=device)\n",
    "\n",
    "        scores = model(data)\n",
    "        loss = criterion(scores, targets)\n",
    "\n",
    "        optimizer.zero_grad()\n",
    "        loss.backward()\n",
    "\n",
    "        optimizer.step()\n",
    "    print(f'Loss at epoch {epoch} was {loss}')"
   ]
  },
  {
   "cell_type": "code",
   "execution_count": 42,
   "metadata": {
    "execution": {
     "iopub.execute_input": "2024-03-15T00:40:33.046292Z",
     "iopub.status.busy": "2024-03-15T00:40:33.045936Z",
     "iopub.status.idle": "2024-03-15T00:41:07.314810Z",
     "shell.execute_reply": "2024-03-15T00:41:07.313845Z",
     "shell.execute_reply.started": "2024-03-15T00:40:33.046268Z"
    },
    "id": "aFzURGMG9UBo"
   },
   "outputs": [
    {
     "name": "stdout",
     "output_type": "stream",
     "text": [
      "PSNR mean: 31.43\n",
      "SSIM mean: 0.8978\n",
      "LPIPS mean: 0.1796\n"
     ]
    }
   ],
   "source": [
    "psnr, ssim, lpips = check_performance(gaussian_train_loader, model)\n",
    "print(f\"PSNR mean: {psnr:.4}\\nSSIM mean: {ssim:.4}\\nLPIPS mean: {lpips:.4}\")"
   ]
  },
  {
   "cell_type": "code",
   "execution_count": 44,
   "metadata": {
    "execution": {
     "iopub.execute_input": "2024-03-15T00:41:44.766244Z",
     "iopub.status.busy": "2024-03-15T00:41:44.765870Z",
     "iopub.status.idle": "2024-03-15T00:41:53.216981Z",
     "shell.execute_reply": "2024-03-15T00:41:53.216047Z",
     "shell.execute_reply.started": "2024-03-15T00:41:44.766217Z"
    },
    "id": "G9N8LKUJ9UBq"
   },
   "outputs": [
    {
     "name": "stdout",
     "output_type": "stream",
     "text": [
      "PSNR mean: 31.29\n",
      "SSIM mean: 0.8981\n",
      "LPIPS mean: 0.1823\n"
     ]
    }
   ],
   "source": [
    "psnr, ssim, lpips = check_performance(gaussian_test_loader, model)\n",
    "print(f\"PSNR mean: {psnr:.4}\\nSSIM mean: {ssim:.4}\\nLPIPS mean: {lpips:.4}\")"
   ]
  },
  {
   "cell_type": "code",
   "execution_count": 45,
   "metadata": {
    "execution": {
     "iopub.execute_input": "2024-03-15T00:42:40.807307Z",
     "iopub.status.busy": "2024-03-15T00:42:40.806906Z",
     "iopub.status.idle": "2024-03-15T00:53:51.258156Z",
     "shell.execute_reply": "2024-03-15T00:53:51.257124Z",
     "shell.execute_reply.started": "2024-03-15T00:42:40.807278Z"
    }
   },
   "outputs": [
    {
     "name": "stdout",
     "output_type": "stream",
     "text": [
      "Loss at epoch 0 was 0.0008832307066768408\n",
      "Loss at epoch 1 was 0.0009629302658140659\n",
      "Loss at epoch 2 was 0.001117172185331583\n",
      "Loss at epoch 3 was 0.0015351871261373162\n",
      "Loss at epoch 4 was 0.0010546728735789657\n",
      "Loss at epoch 5 was 0.0006712418980896473\n",
      "Loss at epoch 6 was 0.0004528420395217836\n",
      "Loss at epoch 7 was 0.0014227894134819508\n",
      "Loss at epoch 8 was 0.0011205270420759916\n",
      "Loss at epoch 9 was 0.0006742628756910563\n",
      "Loss at epoch 10 was 0.0013149648439139128\n",
      "Loss at epoch 11 was 0.0010858721798285842\n",
      "Loss at epoch 12 was 0.000611037015914917\n",
      "Loss at epoch 13 was 0.0009519215091131628\n",
      "Loss at epoch 14 was 0.0008486582664772868\n",
      "Loss at epoch 15 was 0.0006593860452994704\n",
      "Loss at epoch 16 was 0.0010011414997279644\n",
      "Loss at epoch 17 was 0.0006958458689041436\n",
      "Loss at epoch 18 was 0.0008002764661796391\n",
      "Loss at epoch 19 was 0.0007245963206514716\n",
      "Loss at epoch 20 was 0.0006785043515264988\n",
      "Loss at epoch 21 was 0.0008716938318684697\n",
      "Loss at epoch 22 was 0.0007666379678994417\n",
      "Loss at epoch 23 was 0.0007340951124206185\n",
      "Loss at epoch 24 was 0.0008526730816811323\n",
      "Loss at epoch 25 was 0.0006513940752483904\n",
      "Loss at epoch 26 was 0.000652628717944026\n",
      "Loss at epoch 27 was 0.0007538992213085294\n",
      "Loss at epoch 28 was 0.0009665756952017546\n",
      "Loss at epoch 29 was 0.0012462022714316845\n"
     ]
    }
   ],
   "source": [
    "for epoch in range(num_epochs):\n",
    "    for batch_idx, (data, targets) in enumerate(salt_train_loader):\n",
    "        data = data.to(device=device)\n",
    "        targets = targets.to(device=device)\n",
    "\n",
    "        scores = model(data)\n",
    "        loss = criterion(scores, targets)\n",
    "\n",
    "        optimizer.zero_grad()\n",
    "        loss.backward()\n",
    "\n",
    "        optimizer.step()\n",
    "    print(f'Loss at epoch {epoch} was {loss}')"
   ]
  },
  {
   "cell_type": "code",
   "execution_count": 46,
   "metadata": {
    "execution": {
     "iopub.execute_input": "2024-03-15T00:53:51.260137Z",
     "iopub.status.busy": "2024-03-15T00:53:51.259864Z",
     "iopub.status.idle": "2024-03-15T00:54:24.910814Z",
     "shell.execute_reply": "2024-03-15T00:54:24.909823Z",
     "shell.execute_reply.started": "2024-03-15T00:53:51.260114Z"
    }
   },
   "outputs": [
    {
     "name": "stdout",
     "output_type": "stream",
     "text": [
      "PSNR mean: 31.21\n",
      "SSIM mean: 0.909\n",
      "LPIPS mean: 0.1747\n"
     ]
    }
   ],
   "source": [
    "psnr, ssim, lpips = check_performance(salt_train_loader, model)\n",
    "print(f\"PSNR mean: {psnr:.4}\\nSSIM mean: {ssim:.4}\\nLPIPS mean: {lpips:.4}\")"
   ]
  },
  {
   "cell_type": "code",
   "execution_count": 47,
   "metadata": {
    "execution": {
     "iopub.execute_input": "2024-03-15T00:54:24.912062Z",
     "iopub.status.busy": "2024-03-15T00:54:24.911818Z",
     "iopub.status.idle": "2024-03-15T00:54:33.237675Z",
     "shell.execute_reply": "2024-03-15T00:54:33.236531Z",
     "shell.execute_reply.started": "2024-03-15T00:54:24.912039Z"
    }
   },
   "outputs": [
    {
     "name": "stdout",
     "output_type": "stream",
     "text": [
      "PSNR mean: 30.99\n",
      "SSIM mean: 0.9066\n",
      "LPIPS mean: 0.1802\n"
     ]
    }
   ],
   "source": [
    "psnr, ssim, lpips = check_performance(salt_test_loader, model)\n",
    "print(f\"PSNR mean: {psnr:.4}\\nSSIM mean: {ssim:.4}\\nLPIPS mean: {lpips:.4}\")"
   ]
  },
  {
   "cell_type": "code",
   "execution_count": 48,
   "metadata": {
    "execution": {
     "iopub.execute_input": "2024-03-15T00:54:48.854605Z",
     "iopub.status.busy": "2024-03-15T00:54:48.854261Z",
     "iopub.status.idle": "2024-03-15T01:07:34.461494Z",
     "shell.execute_reply": "2024-03-15T01:07:34.460350Z",
     "shell.execute_reply.started": "2024-03-15T00:54:48.854580Z"
    }
   },
   "outputs": [
    {
     "name": "stdout",
     "output_type": "stream",
     "text": [
      "Loss at epoch 0 was 0.00978017132729292\n",
      "Loss at epoch 1 was 0.00809676293283701\n",
      "Loss at epoch 2 was 0.005208727903664112\n",
      "Loss at epoch 3 was 0.005853255279362202\n",
      "Loss at epoch 4 was 0.005594780668616295\n",
      "Loss at epoch 5 was 0.0038132229819893837\n",
      "Loss at epoch 6 was 0.0031190761364996433\n",
      "Loss at epoch 7 was 0.002788532990962267\n",
      "Loss at epoch 8 was 0.0028617081698030233\n",
      "Loss at epoch 9 was 0.00289516500197351\n",
      "Loss at epoch 10 was 0.0035722162574529648\n",
      "Loss at epoch 11 was 0.0028106672689318657\n",
      "Loss at epoch 12 was 0.003088792786002159\n",
      "Loss at epoch 13 was 0.0027675097808241844\n",
      "Loss at epoch 14 was 0.0020893793553113937\n",
      "Loss at epoch 15 was 0.003744495566934347\n",
      "Loss at epoch 16 was 0.002473799278959632\n",
      "Loss at epoch 17 was 0.0032352718990296125\n",
      "Loss at epoch 18 was 0.002390999346971512\n",
      "Loss at epoch 19 was 0.0016637505032122135\n",
      "Loss at epoch 20 was 0.0023125119041651487\n",
      "Loss at epoch 21 was 0.0035929980222135782\n",
      "Loss at epoch 22 was 0.003120951820164919\n",
      "Loss at epoch 23 was 0.0025263347197324038\n",
      "Loss at epoch 24 was 0.0025405497290194035\n",
      "Loss at epoch 25 was 0.0038275192491710186\n",
      "Loss at epoch 26 was 0.0022662016563117504\n",
      "Loss at epoch 27 was 0.0025353047531098127\n",
      "Loss at epoch 28 was 0.001900024013593793\n",
      "Loss at epoch 29 was 0.0019585415720939636\n"
     ]
    }
   ],
   "source": [
    "for epoch in range(num_epochs):\n",
    "    for batch_idx, (data, targets) in enumerate(periodic_train_loader):\n",
    "        data = data.to(device=device)\n",
    "        targets = targets.to(device=device)\n",
    "\n",
    "        scores = model(data)\n",
    "        loss = criterion(scores, targets)\n",
    "\n",
    "        optimizer.zero_grad()\n",
    "        loss.backward()\n",
    "\n",
    "        optimizer.step()\n",
    "    print(f'Loss at epoch {epoch} was {loss}')"
   ]
  },
  {
   "cell_type": "code",
   "execution_count": 49,
   "metadata": {
    "execution": {
     "iopub.execute_input": "2024-03-15T01:07:34.463651Z",
     "iopub.status.busy": "2024-03-15T01:07:34.463350Z",
     "iopub.status.idle": "2024-03-15T01:08:12.217668Z",
     "shell.execute_reply": "2024-03-15T01:08:12.216347Z",
     "shell.execute_reply.started": "2024-03-15T01:07:34.463626Z"
    }
   },
   "outputs": [
    {
     "name": "stdout",
     "output_type": "stream",
     "text": [
      "PSNR mean: 27.06\n",
      "SSIM mean: 0.882\n",
      "LPIPS mean: 0.1837\n"
     ]
    }
   ],
   "source": [
    "psnr, ssim, lpips = check_performance(periodic_train_loader, model)\n",
    "print(f\"PSNR mean: {psnr:.4}\\nSSIM mean: {ssim:.4}\\nLPIPS mean: {lpips:.4}\")"
   ]
  },
  {
   "cell_type": "code",
   "execution_count": 50,
   "metadata": {
    "execution": {
     "iopub.execute_input": "2024-03-15T01:08:12.219627Z",
     "iopub.status.busy": "2024-03-15T01:08:12.219225Z",
     "iopub.status.idle": "2024-03-15T01:08:22.261868Z",
     "shell.execute_reply": "2024-03-15T01:08:22.260867Z",
     "shell.execute_reply.started": "2024-03-15T01:08:12.219592Z"
    }
   },
   "outputs": [
    {
     "name": "stdout",
     "output_type": "stream",
     "text": [
      "PSNR mean: 25.55\n",
      "SSIM mean: 0.8762\n",
      "LPIPS mean: 0.1942\n"
     ]
    }
   ],
   "source": [
    "psnr, ssim, lpips = check_performance(periodic_test_loader, model)\n",
    "print(f\"PSNR mean: {psnr:.4}\\nSSIM mean: {ssim:.4}\\nLPIPS mean: {lpips:.4}\")"
   ]
  }
 ],
 "metadata": {
  "accelerator": "GPU",
  "colab": {
   "gpuType": "T4",
   "provenance": []
  },
  "kernelspec": {
   "display_name": "Python 3 (ipykernel)",
   "language": "python",
   "name": "python3"
  },
  "language_info": {
   "codemirror_mode": {
    "name": "ipython",
    "version": 3
   },
   "file_extension": ".py",
   "mimetype": "text/x-python",
   "name": "python",
   "nbconvert_exporter": "python",
   "pygments_lexer": "ipython3",
   "version": "3.11.5"
  }
 },
 "nbformat": 4,
 "nbformat_minor": 4
}
